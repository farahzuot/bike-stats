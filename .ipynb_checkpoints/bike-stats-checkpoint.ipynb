{
 "cells": [
  {
   "cell_type": "markdown",
   "metadata": {},
   "source": [
    "# bike stats notebook"
   ]
  },
  {
   "cell_type": "markdown",
   "metadata": {},
   "source": [
    "## Farah al-Zayyout - 14/12/2020"
   ]
  },
  {
   "cell_type": "code",
   "execution_count": 1,
   "metadata": {},
   "outputs": [],
   "source": [
    "import pandas as pd"
   ]
  },
  {
   "cell_type": "code",
   "execution_count": 41,
   "metadata": {},
   "outputs": [],
   "source": [
    "import numpy as np"
   ]
  },
  {
   "cell_type": "code",
   "execution_count": 3,
   "metadata": {},
   "outputs": [
    {
     "name": "stderr",
     "output_type": "stream",
     "text": [
      "b'Skipping line 50794: expected 12 fields, saw 20\\n'\n"
     ]
    }
   ],
   "source": [
    "df_trip = pd.read_csv('trip.csv',error_bad_lines = False)"
   ]
  },
  {
   "cell_type": "code",
   "execution_count": 6,
   "metadata": {},
   "outputs": [],
   "source": [
    "df_station = pd.read_csv('station.csv')"
   ]
  },
  {
   "cell_type": "code",
   "execution_count": 7,
   "metadata": {},
   "outputs": [],
   "source": [
    "df_weather = pd.read_csv('weather.csv')"
   ]
  },
  {
   "cell_type": "markdown",
   "metadata": {},
   "source": [
    "### What is the average trip duration for a borrowed bicycle?"
   ]
  },
  {
   "cell_type": "code",
   "execution_count": 13,
   "metadata": {},
   "outputs": [
    {
     "data": {
      "text/plain": [
       "1178.2956753399776"
      ]
     },
     "execution_count": 13,
     "metadata": {},
     "output_type": "execute_result"
    }
   ],
   "source": [
    "df_trip[['tripduration']].mean()[0]"
   ]
  },
  {
   "cell_type": "markdown",
   "metadata": {},
   "source": [
    "### What’s the most common age of a bicycle-sharer?"
   ]
  },
  {
   "cell_type": "code",
   "execution_count": 106,
   "metadata": {},
   "outputs": [
    {
     "data": {
      "text/html": [
       "<div>\n",
       "<style scoped>\n",
       "    .dataframe tbody tr th:only-of-type {\n",
       "        vertical-align: middle;\n",
       "    }\n",
       "\n",
       "    .dataframe tbody tr th {\n",
       "        vertical-align: top;\n",
       "    }\n",
       "\n",
       "    .dataframe thead th {\n",
       "        text-align: right;\n",
       "    }\n",
       "</style>\n",
       "<table border=\"1\" class=\"dataframe\">\n",
       "  <thead>\n",
       "    <tr style=\"text-align: right;\">\n",
       "      <th></th>\n",
       "      <th>birthyear</th>\n",
       "    </tr>\n",
       "  </thead>\n",
       "  <tbody>\n",
       "    <tr>\n",
       "      <th>0</th>\n",
       "      <td>33.0</td>\n",
       "    </tr>\n",
       "  </tbody>\n",
       "</table>\n",
       "</div>"
      ],
      "text/plain": [
       "   birthyear\n",
       "0       33.0"
      ]
     },
     "execution_count": 106,
     "metadata": {},
     "output_type": "execute_result"
    }
   ],
   "source": [
    "common_age = 2020-df_trip[['birthyear']].mode()\n",
    "common_age"
   ]
  },
  {
   "cell_type": "markdown",
   "metadata": {},
   "source": [
    "### Given all the weather data here, find the average precipitation per month, and the median precipitation."
   ]
  },
  {
   "cell_type": "code",
   "execution_count": 125,
   "metadata": {},
   "outputs": [],
   "source": [
    "monthly_based = df_weather['Precipitation_In'].resample('m')\n",
    "mean = monthly_based.mean()\n",
    "median = monthly_based.median()\n"
   ]
  },
  {
   "cell_type": "code",
   "execution_count": 126,
   "metadata": {},
   "outputs": [
    {
     "data": {
      "text/plain": [
       "Date\n",
       "2014-10-31    0.300526\n",
       "2014-11-30    0.141667\n",
       "2014-12-31    0.145161\n",
       "2015-01-31    0.070645\n",
       "2015-02-28    0.163214\n",
       "2015-03-31    0.135161\n",
       "2015-04-30    0.056667\n",
       "2015-05-31    0.014194\n",
       "2015-06-30    0.005667\n",
       "2015-07-31    0.008710\n",
       "2015-08-31    0.035484\n",
       "2015-09-30    0.041000\n",
       "2015-10-31    0.120645\n",
       "2015-11-30    0.234000\n",
       "2015-12-31    0.327419\n",
       "2016-01-31    0.216452\n",
       "2016-02-29    0.173448\n",
       "2016-03-31    0.178710\n",
       "2016-04-30    0.046000\n",
       "2016-05-31    0.010645\n",
       "2016-06-30    0.055333\n",
       "2016-07-31    0.015484\n",
       "2016-08-31    0.000968\n",
       "Freq: M, Name: Precipitation_In, dtype: float64"
      ]
     },
     "execution_count": 126,
     "metadata": {},
     "output_type": "execute_result"
    }
   ],
   "source": [
    "mean"
   ]
  },
  {
   "cell_type": "code",
   "execution_count": 127,
   "metadata": {},
   "outputs": [
    {
     "data": {
      "text/plain": [
       "Date\n",
       "2014-10-31    0.140\n",
       "2014-11-30    0.010\n",
       "2014-12-31    0.010\n",
       "2015-01-31    0.010\n",
       "2015-02-28    0.025\n",
       "2015-03-31    0.000\n",
       "2015-04-30    0.000\n",
       "2015-05-31    0.000\n",
       "2015-06-30    0.000\n",
       "2015-07-31    0.000\n",
       "2015-08-31    0.000\n",
       "2015-09-30    0.000\n",
       "2015-10-31    0.010\n",
       "2015-11-30    0.065\n",
       "2015-12-31    0.120\n",
       "2016-01-31    0.070\n",
       "2016-02-29    0.080\n",
       "2016-03-31    0.060\n",
       "2016-04-30    0.000\n",
       "2016-05-31    0.000\n",
       "2016-06-30    0.000\n",
       "2016-07-31    0.000\n",
       "2016-08-31    0.000\n",
       "Freq: M, Name: Precipitation_In, dtype: float64"
      ]
     },
     "execution_count": 127,
     "metadata": {},
     "output_type": "execute_result"
    }
   ],
   "source": [
    "median"
   ]
  },
  {
   "cell_type": "markdown",
   "metadata": {},
   "source": [
    "### What’s the average number of bikes at a given bike station?\n"
   ]
  },
  {
   "cell_type": "code",
   "execution_count": 139,
   "metadata": {},
   "outputs": [
    {
     "data": {
      "text/plain": [
       "17.586206896551722"
      ]
     },
     "execution_count": 139,
     "metadata": {},
     "output_type": "execute_result"
    }
   ],
   "source": [
    "df_station['install_dockcount'].mean()"
   ]
  },
  {
   "cell_type": "markdown",
   "metadata": {},
   "source": [
    "### When a bike station is modified, is it more likely that it’ll lose bikes or gain bikes? How do you know?"
   ]
  },
  {
   "cell_type": "code",
   "execution_count": 135,
   "metadata": {},
   "outputs": [
    {
     "data": {
      "text/plain": [
       "17.586206896551722"
      ]
     },
     "execution_count": 135,
     "metadata": {},
     "output_type": "execute_result"
    }
   ],
   "source": [
    "df_station['install_dockcount'].mean()"
   ]
  },
  {
   "cell_type": "code",
   "execution_count": 136,
   "metadata": {},
   "outputs": [
    {
     "data": {
      "text/plain": [
       "16.517241379310345"
      ]
     },
     "execution_count": 136,
     "metadata": {},
     "output_type": "execute_result"
    }
   ],
   "source": [
    "df_station['current_dockcount'].mean()"
   ]
  },
  {
   "cell_type": "markdown",
   "metadata": {},
   "source": [
    "> it will lose bikes because the mean for the install_dockcount for the modified station is greater than mean for the current_dockcount which is should be after modification"
   ]
  },
  {
   "cell_type": "code",
   "execution_count": null,
   "metadata": {},
   "outputs": [],
   "source": []
  }
 ],
 "metadata": {
  "kernelspec": {
   "display_name": "Python 3",
   "language": "python",
   "name": "python3"
  },
  "language_info": {
   "codemirror_mode": {
    "name": "ipython",
    "version": 3
   },
   "file_extension": ".py",
   "mimetype": "text/x-python",
   "name": "python",
   "nbconvert_exporter": "python",
   "pygments_lexer": "ipython3",
   "version": "3.9.0"
  }
 },
 "nbformat": 4,
 "nbformat_minor": 4
}
